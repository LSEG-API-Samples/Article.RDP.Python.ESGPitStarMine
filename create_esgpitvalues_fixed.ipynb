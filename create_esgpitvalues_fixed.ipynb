{
 "cells": [
  {
   "cell_type": "markdown",
   "id": "58eab56d",
   "metadata": {},
   "source": [
    "### There are 3 main changes being fixed in the point-in-time tables\n",
    "1) Replacing 'null' with the actual value NULL\n",
    "\n",
    "2) Strongly typing columns\n",
    "\n",
    "3) For the very first EffectiveFromDate for a company/period/item, change it to PeriodEndDate + 1 Year, if that is earlier.  This is because point-in-time starts well after ESG data started being recorded."
   ]
  },
  {
   "cell_type": "code",
   "execution_count": 1,
   "id": "f569a6f4",
   "metadata": {},
   "outputs": [],
   "source": [
    "esg_database = \"YOUR_SCHEMA\"\n",
    "esg_table = \"esgpitvalues_csv\"\n",
    "\n",
    "fixed_esg_database = \"YOUR_SCHEMA\"\n",
    "fixed_esg_table = \"esgpitvalues_fixed\"\n",
    "fixed_esg_table_s3_dir = \"s3://YOUR_BUCKET/data/repo/esg_pit/\"\n",
    "fixed_esg_table_s3_fullpath = fixed_esg_table_s3_dir + fixed_esg_table\n",
    "\n",
    "pyathena_staging = \"s3://YOUR_BUCKET/data/repo/esg_pit/pyathena/\""
   ]
  },
  {
   "cell_type": "markdown",
   "id": "baf04501",
   "metadata": {},
   "source": [
    "# ===================================\n",
    "# DON'T CHANGE ANYTHING BELOW HERE\n",
    "# ==================================="
   ]
  },
  {
   "cell_type": "code",
   "execution_count": 2,
   "id": "a6cc1beb",
   "metadata": {},
   "outputs": [
    {
     "name": "stdout",
     "output_type": "stream",
     "text": [
      "Requirement already satisfied: pyathena in /home/ec2-user/anaconda3/envs/python3/lib/python3.6/site-packages (2.3.2)\n",
      "Requirement already satisfied: botocore>=1.5.52 in /home/ec2-user/anaconda3/envs/python3/lib/python3.6/site-packages (from pyathena) (1.23.25)\n",
      "Requirement already satisfied: tenacity>=4.1.0 in /home/ec2-user/anaconda3/envs/python3/lib/python3.6/site-packages (from pyathena) (8.0.1)\n",
      "Requirement already satisfied: boto3>=1.4.4 in /home/ec2-user/anaconda3/envs/python3/lib/python3.6/site-packages (from pyathena) (1.20.25)\n",
      "Requirement already satisfied: s3transfer<0.6.0,>=0.5.0 in /home/ec2-user/anaconda3/envs/python3/lib/python3.6/site-packages (from boto3>=1.4.4->pyathena) (0.5.0)\n",
      "Requirement already satisfied: jmespath<1.0.0,>=0.7.1 in /home/ec2-user/anaconda3/envs/python3/lib/python3.6/site-packages (from boto3>=1.4.4->pyathena) (0.10.0)\n",
      "Requirement already satisfied: python-dateutil<3.0.0,>=2.1 in /home/ec2-user/anaconda3/envs/python3/lib/python3.6/site-packages (from botocore>=1.5.52->pyathena) (2.8.1)\n",
      "Requirement already satisfied: urllib3<1.27,>=1.25.4 in /home/ec2-user/anaconda3/envs/python3/lib/python3.6/site-packages (from botocore>=1.5.52->pyathena) (1.26.7)\n",
      "Requirement already satisfied: six>=1.5 in /home/ec2-user/anaconda3/envs/python3/lib/python3.6/site-packages (from python-dateutil<3.0.0,>=2.1->botocore>=1.5.52->pyathena) (1.15.0)\n"
     ]
    }
   ],
   "source": [
    "!pip install pyathena "
   ]
  },
  {
   "cell_type": "code",
   "execution_count": 3,
   "id": "b39c783b",
   "metadata": {},
   "outputs": [],
   "source": [
    "import pyathena "
   ]
  },
  {
   "cell_type": "code",
   "execution_count": 4,
   "id": "e044cd73",
   "metadata": {},
   "outputs": [],
   "source": [
    "fixing_sql = f\"\"\"\n",
    "    CREATE TABLE \"{fixed_esg_database}\".\"{fixed_esg_table}\"\n",
    "    WITH (format = 'Parquet', parquet_compression = 'SNAPPY', external_location ='{fixed_esg_table_s3_fullpath}')\n",
    "    AS\n",
    "    WITH firstdates\n",
    "    AS\n",
    "    (\n",
    "        SELECT organizationid,\n",
    "        itemcode,\n",
    "        periodenddate,\n",
    "        MIN(entrydate) AS first_date,\n",
    "        DATE_ADD('year',1, DATE(periodenddate)) AS lagged_date,\n",
    "        LEAST(DATE(SUBSTRING(MIN(entrydate),1,10)), DATE_ADD('year',1, DATE(periodenddate))) AS effectivefromdate_new\n",
    "        FROM \"{esg_database}\".\"{esg_table}\"\n",
    "        GROUP BY organizationid, itemcode, periodenddate\n",
    "    ) \n",
    "    SELECT CAST(e.organizationid AS BIGINT) AS organizationid,\n",
    "    e.financialperiodid,\n",
    "    DATE(e.periodenddate) AS periodenddate,\n",
    "    e.periodtype,\n",
    "    CAST(e.year AS INT) AS year,\n",
    "    CAST(e.ispartial AS BOOLEAN) AS ispartial,\n",
    "    e.itemcode,\n",
    "    CAST(NULLIF(e.esgvalue,'null') AS DOUBLE) AS esgvalue,\n",
    "    NULLIF(e.currency,'null') AS currency,\n",
    "    NULLIF(e.esgstringvalue,'null') AS esgstringvalue,\n",
    "    e.changetype,\n",
    "    COALESCE(f.effectivefromdate_new, DATE(SUBSTRING(e.entrydate,1,10))) AS effectivefromdate,\n",
    "    DATE(SUBSTRING(NULLIF(e.effectivetodate,'null'),1,10)) AS effectivetodate\n",
    "    FROM \"{esg_database}\".\"{esg_table}\" e\n",
    "    LEFT OUTER JOIN firstdates f\n",
    "    ON e.organizationid = f.organizationid\n",
    "    AND e.itemcode = f.itemcode\n",
    "    AND e.periodenddate = f.periodenddate\n",
    "    AND e.entrydate = f.first_date\n",
    "    \"\"\""
   ]
  },
  {
   "cell_type": "markdown",
   "id": "8545f896",
   "metadata": {},
   "source": [
    "### Here's what the SQL looks like with all the variables in it"
   ]
  },
  {
   "cell_type": "code",
   "execution_count": null,
   "id": "bbb5c28e",
   "metadata": {},
   "outputs": [],
   "source": [
    "print(fixing_sql) "
   ]
  },
  {
   "cell_type": "markdown",
   "id": "4b1f7681",
   "metadata": {},
   "source": [
    "### Now connect to Athena and run the query"
   ]
  },
  {
   "cell_type": "code",
   "execution_count": 6,
   "id": "87a89546",
   "metadata": {},
   "outputs": [],
   "source": [
    "athena_cur = pyathena.connect(s3_staging_dir=pyathena_staging).cursor() "
   ]
  },
  {
   "cell_type": "code",
   "execution_count": 7,
   "id": "062faac8",
   "metadata": {},
   "outputs": [
    {
     "name": "stdout",
     "output_type": "stream",
     "text": [
      "3999d319-7a1f-48bf-ae82-7719f0cf381b\n",
      "CPU times: user 99 ms, sys: 642 µs, total: 99.7 ms\n",
      "Wall time: 24 s\n"
     ]
    }
   ],
   "source": [
    "%%time\n",
    "athena_cur.execute(fixing_sql)\n",
    "print(athena_cur.query_id) "
   ]
  }
 ],
 "metadata": {
  "kernelspec": {
   "display_name": "conda_python3",
   "language": "python",
   "name": "conda_python3"
  },
  "language_info": {
   "codemirror_mode": {
    "name": "ipython",
    "version": 3
   },
   "file_extension": ".py",
   "mimetype": "text/x-python",
   "name": "python",
   "nbconvert_exporter": "python",
   "pygments_lexer": "ipython3",
   "version": "3.6.13"
  }
 },
 "nbformat": 4,
 "nbformat_minor": 5
}
