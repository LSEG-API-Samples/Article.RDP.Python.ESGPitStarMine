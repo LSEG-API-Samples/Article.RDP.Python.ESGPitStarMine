{
 "cells": [
  {
   "cell_type": "code",
   "execution_count": 1,
   "id": "0e793e14",
   "metadata": {},
   "outputs": [],
   "source": [
    "as_of_date_database = \"YOUR_SCHEMA\"\n",
    "as_of_date_ownership_table = \"TABLE_WITH_YOUR_SIGNAL_BEFORE_ESG\"\n",
    "\n",
    "sh_database = \"YOUR_SCHEMA\"\n",
    "sh_table = \"smart_holdings_v1_mapped\"\n",
    "\n",
    "esg_database = \"YOUR_SCHEMA\"\n",
    "esg_table = \"esg_factors_for_as_of_dates_keyvalue\"\n",
    "\n",
    "# To conserve on space, only include the ESG factors of interest\n",
    "analytics_factors = ['TotalCO2EquivalentsEmissionsToRevenues', 'VocEmissionsToRevenues', 'TotalWasteToRevenues', 'TotalHazardousWasteToRevenues', 'WaterPollutantEmissionsToRevenues', 'InjuriesToMillionHours', 'TotalRenewableEnergyToEnergyUse']\n",
    "value_factors = ['VoluntaryTurnoverOfEmployees', 'WomenManagers', 'AverageTrainingHours', 'CustomerSatisfaction']\n",
    "score_factors = ['ESGManagementScore', 'ESGShareholdersScore']\n",
    "all_esg_factors = analytics_factors + value_factors + score_factors\n",
    "\n",
    "esg_as_of_dates_database = \"YOUR_SCHEMA\"\n",
    "esg_as_of_dates_table = \"esg_factors_for_as_of_dates\"\n",
    "esg_as_of_dates_table_s3_dir = \"s3://YOUR_BUCKET/data/repo/esgsh_esg_pit/\"\n",
    "esg_as_of_dates_table_s3_fullpath = esg_as_of_dates_table_s3_dir + esg_as_of_dates_table\n",
    "\n",
    "pyathena_staging = \"s3://YOUR_BUCKET/data/repo/esgsh_esg_pit/pyathena/\""
   ]
  },
  {
   "cell_type": "markdown",
   "id": "8873d50f",
   "metadata": {},
   "source": [
    "# ===================================\n",
    "# DON'T CHANGE ANYTHING BELOW HERE\n",
    "# ==================================="
   ]
  },
  {
   "cell_type": "code",
   "execution_count": 2,
   "id": "c2067201",
   "metadata": {},
   "outputs": [
    {
     "name": "stdout",
     "output_type": "stream",
     "text": [
      "Requirement already satisfied: pyathena in /home/ec2-user/anaconda3/envs/python3/lib/python3.6/site-packages (2.3.2)\n",
      "Requirement already satisfied: tenacity>=4.1.0 in /home/ec2-user/anaconda3/envs/python3/lib/python3.6/site-packages (from pyathena) (8.0.1)\n",
      "Requirement already satisfied: botocore>=1.5.52 in /home/ec2-user/anaconda3/envs/python3/lib/python3.6/site-packages (from pyathena) (1.23.25)\n",
      "Requirement already satisfied: boto3>=1.4.4 in /home/ec2-user/anaconda3/envs/python3/lib/python3.6/site-packages (from pyathena) (1.20.25)\n",
      "Requirement already satisfied: jmespath<1.0.0,>=0.7.1 in /home/ec2-user/anaconda3/envs/python3/lib/python3.6/site-packages (from boto3>=1.4.4->pyathena) (0.10.0)\n",
      "Requirement already satisfied: s3transfer<0.6.0,>=0.5.0 in /home/ec2-user/anaconda3/envs/python3/lib/python3.6/site-packages (from boto3>=1.4.4->pyathena) (0.5.0)\n",
      "Requirement already satisfied: python-dateutil<3.0.0,>=2.1 in /home/ec2-user/anaconda3/envs/python3/lib/python3.6/site-packages (from botocore>=1.5.52->pyathena) (2.8.1)\n",
      "Requirement already satisfied: urllib3<1.27,>=1.25.4 in /home/ec2-user/anaconda3/envs/python3/lib/python3.6/site-packages (from botocore>=1.5.52->pyathena) (1.26.7)\n",
      "Requirement already satisfied: six>=1.5 in /home/ec2-user/anaconda3/envs/python3/lib/python3.6/site-packages (from python-dateutil<3.0.0,>=2.1->botocore>=1.5.52->pyathena) (1.15.0)\n"
     ]
    }
   ],
   "source": [
    "!pip install pyathena "
   ]
  },
  {
   "cell_type": "code",
   "execution_count": 3,
   "id": "b860f976",
   "metadata": {},
   "outputs": [],
   "source": [
    "import pyathena "
   ]
  },
  {
   "cell_type": "code",
   "execution_count": 4,
   "id": "b56d7fa0",
   "metadata": {},
   "outputs": [],
   "source": [
    "# All ranks will be type double\n",
    "all_factors_str = \"\"\n",
    "\n",
    "for factor_col in all_esg_factors:\n",
    "        factor_str = 'e.' + factor_col + ', '\n",
    "        all_factors_str += factor_str\n",
    "        \n",
    "# Remove last comma, so SQL plays nice\n",
    "all_factors_str = all_factors_str.rstrip(', ')"
   ]
  },
  {
   "cell_type": "code",
   "execution_count": 5,
   "id": "c5215cc5",
   "metadata": {},
   "outputs": [],
   "source": [
    "# Generate the factor threshold transpose\n",
    "\n",
    "factor_transpose = \"\"\n",
    "\n",
    "for factor in all_esg_factors:\n",
    "    \n",
    "    factor_transpose_template = f\"\"\"\n",
    "    kv['{factor}'] AS {factor},\n",
    "    \"\"\"\n",
    "    factor_transpose = factor_transpose + factor_transpose_template\n",
    "\n",
    "# Remove the last comma, else SQL doesn't like it\n",
    "factor_transpose = factor_transpose[:factor_transpose.rfind(',')]"
   ]
  },
  {
   "cell_type": "code",
   "execution_count": 6,
   "id": "201f9716",
   "metadata": {},
   "outputs": [],
   "source": [
    "esg_holdingdate_sql = f\"\"\"\n",
    "    CREATE TABLE \"{esg_as_of_dates_database}\".\"{esg_as_of_dates_table}\"\n",
    "    WITH (format = 'Parquet', parquet_compression = 'SNAPPY', external_location ='{esg_as_of_dates_table_s3_fullpath}')\n",
    "    AS\n",
    "    -- For each AsOfDate, figure out the most recent ESG Factors\n",
    "    -- Assuming a 1 lag, that means ESG factors at least 1 year prior to AsOfDate\n",
    "    -- But also but in a 1 year lookback prior since not all companies will report on that each 1-year lag date\n",
    "    WITH sh_universe\n",
    "    AS\n",
    "    (\n",
    "        SELECT orgpermid,\n",
    "        MIN(as_of_date) AS First_date,\n",
    "        MAX(as_of_date) AS last_date\n",
    "        FROM \"{sh_database}\".\"{sh_table}\"\n",
    "        GROUP BY orgpermid\n",
    "    ),\n",
    "    sh_universe_dates\n",
    "    AS\n",
    "    (\n",
    "        SELECT u.orgpermid, d.as_of_date\n",
    "        FROM sh_universe u\n",
    "        INNER JOIN \"{as_of_date_database}\".\"{as_of_date_ownership_table}\" d\n",
    "        ON d.as_of_date BETWEEN u.first_date AND u.last_date\n",
    "    ),\n",
    "    transposed_esg\n",
    "    AS\n",
    "    (\n",
    "        SELECT orgpermid,\n",
    "        as_of_date,\n",
    "        {factor_transpose}\n",
    "        FROM\n",
    "        (\n",
    "            SELECT orgpermid, as_of_date, map_agg(itemcode, esg_value) kv\n",
    "            FROM \"{esg_database}\".\"{esg_table}\"\n",
    "            GROUP BY orgpermid, as_of_date\n",
    "        )\n",
    "    )\n",
    "    SELECT d.as_of_date, d.orgpermid, {all_factors_str} \n",
    "    FROM sh_universe_dates d\n",
    "    LEFT OUTER JOIN transposed_esg e\n",
    "    ON d.orgpermid = e.orgpermid\n",
    "    AND d.as_of_date = e.as_of_date\n",
    "    \"\"\""
   ]
  },
  {
   "cell_type": "markdown",
   "id": "0f4f239d",
   "metadata": {},
   "source": [
    "### Here's what the SQL looks like with all the variables in it"
   ]
  },
  {
   "cell_type": "code",
   "execution_count": null,
   "id": "cda0701c",
   "metadata": {},
   "outputs": [],
   "source": [
    "print(esg_holdingdate_sql) "
   ]
  },
  {
   "cell_type": "markdown",
   "id": "661d542f",
   "metadata": {},
   "source": [
    "### Now connect to Athena and run the query"
   ]
  },
  {
   "cell_type": "code",
   "execution_count": 8,
   "id": "805e0abb",
   "metadata": {},
   "outputs": [],
   "source": [
    "athena_cur = pyathena.connect(s3_staging_dir=pyathena_staging).cursor() "
   ]
  },
  {
   "cell_type": "code",
   "execution_count": 9,
   "id": "fb04ef50",
   "metadata": {},
   "outputs": [
    {
     "name": "stdout",
     "output_type": "stream",
     "text": [
      "70827da2-a6a0-4a1e-ad6d-62f0c292f1e1\n"
     ]
    }
   ],
   "source": [
    "athena_cur.execute(esg_holdingdate_sql)\n",
    "print(athena_cur.query_id) "
   ]
  }
 ],
 "metadata": {
  "kernelspec": {
   "display_name": "conda_python3",
   "language": "python",
   "name": "conda_python3"
  },
  "language_info": {
   "codemirror_mode": {
    "name": "ipython",
    "version": 3
   },
   "file_extension": ".py",
   "mimetype": "text/x-python",
   "name": "python",
   "nbconvert_exporter": "python",
   "pygments_lexer": "ipython3",
   "version": "3.6.13"
  }
 },
 "nbformat": 4,
 "nbformat_minor": 5
}
