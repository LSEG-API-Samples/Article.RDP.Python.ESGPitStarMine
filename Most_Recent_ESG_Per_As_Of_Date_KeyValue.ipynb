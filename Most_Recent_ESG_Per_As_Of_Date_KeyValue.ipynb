{
 "cells": [
  {
   "cell_type": "code",
   "execution_count": 1,
   "id": "1205af8f",
   "metadata": {},
   "outputs": [],
   "source": [
    "sh_database = \"YOUR_SCHEMA\"\n",
    "sh_table = \"TABLE_WITH_YOUR_SIGNAL_BEFORE_ESG\"\n",
    "\n",
    "as_of_date_database = \"YOUR_SCHEMA\"\n",
    "as_of_date_table = \"daily_dates_with_weekends\"\n",
    "\n",
    "esg_analytic_database = \"YOUR_SCHEMA\"\n",
    "esg_analytic_table = \"esgpitanalyticvalue_fixed\"\n",
    "\n",
    "esg_value_database = \"YOUR_SCHEMA\"\n",
    "esg_value_table = \"esgpitvalues_fixed\"\n",
    "\n",
    "esg_score_database = \"YOUR_SCHEMA\"\n",
    "esg_score_table = \"esgpitscores_fixed\"\n",
    "\n",
    "analytics_factors = ['TotalCO2EquivalentsEmissionsToRevenues', 'VocEmissionsToRevenues', 'TotalWasteToRevenues', 'TotalHazardousWasteToRevenues', 'WaterPollutantEmissionsToRevenues', 'InjuriesToMillionHours', 'TotalRenewableEnergyToEnergyUse']\n",
    "value_factors = ['VoluntaryTurnoverOfEmployees', 'WomenManagers', 'AverageTrainingHours', 'CustomerSatisfaction']\n",
    "score_factors = ['ESGManagementScore', 'ESGShareholdersScore']\n",
    "\n",
    "esg_as_of_dates_database = \"YOUR_SCHEMA\"\n",
    "esg_as_of_dates_table = \"esg_factors_for_as_of_dates_keyvalue\"\n",
    "esg_as_of_dates_table_s3_dir = \"s3://YOUR_BUCKET/data/repo/esgsh_esg_pit/\"\n",
    "esg_as_of_dates_table_s3_fullpath = esg_as_of_dates_table_s3_dir + esg_as_of_dates_table\n",
    "\n",
    "pyathena_staging = \"s3:/YOUR_BUCKET/data/repo/esgsh_esg_pit/pyathena/\""
   ]
  },
  {
   "cell_type": "markdown",
   "id": "25b11b31",
   "metadata": {},
   "source": [
    "# ===================================\n",
    "# DON'T CHANGE ANYTHING BELOW HERE\n",
    "# ==================================="
   ]
  },
  {
   "cell_type": "code",
   "execution_count": 2,
   "id": "84c6e084",
   "metadata": {},
   "outputs": [
    {
     "name": "stdout",
     "output_type": "stream",
     "text": [
      "Requirement already satisfied: pyathena in /home/ec2-user/anaconda3/envs/python3/lib/python3.6/site-packages (2.3.2)\n",
      "Requirement already satisfied: botocore>=1.5.52 in /home/ec2-user/anaconda3/envs/python3/lib/python3.6/site-packages (from pyathena) (1.23.25)\n",
      "Requirement already satisfied: tenacity>=4.1.0 in /home/ec2-user/anaconda3/envs/python3/lib/python3.6/site-packages (from pyathena) (8.0.1)\n",
      "Requirement already satisfied: boto3>=1.4.4 in /home/ec2-user/anaconda3/envs/python3/lib/python3.6/site-packages (from pyathena) (1.20.25)\n",
      "Requirement already satisfied: s3transfer<0.6.0,>=0.5.0 in /home/ec2-user/anaconda3/envs/python3/lib/python3.6/site-packages (from boto3>=1.4.4->pyathena) (0.5.0)\n",
      "Requirement already satisfied: jmespath<1.0.0,>=0.7.1 in /home/ec2-user/anaconda3/envs/python3/lib/python3.6/site-packages (from boto3>=1.4.4->pyathena) (0.10.0)\n",
      "Requirement already satisfied: urllib3<1.27,>=1.25.4 in /home/ec2-user/anaconda3/envs/python3/lib/python3.6/site-packages (from botocore>=1.5.52->pyathena) (1.26.7)\n",
      "Requirement already satisfied: python-dateutil<3.0.0,>=2.1 in /home/ec2-user/anaconda3/envs/python3/lib/python3.6/site-packages (from botocore>=1.5.52->pyathena) (2.8.1)\n",
      "Requirement already satisfied: six>=1.5 in /home/ec2-user/anaconda3/envs/python3/lib/python3.6/site-packages (from python-dateutil<3.0.0,>=2.1->botocore>=1.5.52->pyathena) (1.15.0)\n"
     ]
    }
   ],
   "source": [
    "!pip install pyathena "
   ]
  },
  {
   "cell_type": "code",
   "execution_count": 3,
   "id": "5d9d61a2",
   "metadata": {},
   "outputs": [],
   "source": [
    "import pyathena "
   ]
  },
  {
   "cell_type": "code",
   "execution_count": 4,
   "id": "bc63bdfd",
   "metadata": {},
   "outputs": [],
   "source": [
    "# Make the lists into friendly strings for SQL\n",
    "analytics_str = ', '.join(f\"'{w}'\" for w in analytics_factors)\n",
    "values_str = ', '.join(f\"'{w}'\" for w in value_factors)\n",
    "scores_str = ', '.join(f\"'{w}'\" for w in score_factors)"
   ]
  },
  {
   "cell_type": "code",
   "execution_count": 5,
   "id": "858970b0",
   "metadata": {},
   "outputs": [],
   "source": [
    "esg_holdingdate_sql = f\"\"\"\n",
    "    CREATE TABLE \"{esg_as_of_dates_database}\".\"{esg_as_of_dates_table}\"\n",
    "    WITH (format = 'Parquet', parquet_compression = 'SNAPPY', external_location ='{esg_as_of_dates_table_s3_fullpath}')\n",
    "    AS\n",
    "    WITH sh_universe\n",
    "    AS\n",
    "    (\n",
    "        -- Focus only on securities in Smart Holdings universe\n",
    "        SELECT orgpermid,\n",
    "        MIN(as_of_date) AS first_date,\n",
    "        MAX(as_of_date) AS last_date\n",
    "        FROM \"{sh_database}\".\"{sh_table}\"\n",
    "        GROUP BY orgpermid\n",
    "    ),\n",
    "    most_recent_period_a\n",
    "    AS\n",
    "    (\n",
    "        -- For each Company/AsOfDate/DataItem, figure out the most recently reported Period\n",
    "        -- But stop lookback at 2 years ago because that's too old\n",
    "        SELECT u.orgpermid,\n",
    "        d.as_of_date,\n",
    "        e.itemcode,\n",
    "        MAX(e.periodenddate) AS periodenddate\n",
    "        FROM sh_universe u\n",
    "        INNER JOIN \"{as_of_date_database}\".\"{as_of_date_table}\" d\n",
    "        ON d.as_of_date BETWEEN u.first_date AND u.last_date\n",
    "        INNER JOIN \"{esg_analytic_database}\".\"{esg_analytic_table}\" e\n",
    "        ON u.orgpermid = e.organizationid\n",
    "        AND d.as_of_date >= e.effectivefromdate\n",
    "        AND e.periodenddate > DATE_ADD('year',-2, d.as_of_date) \n",
    "        AND e.itemcode IN ({analytics_str})\n",
    "        GROUP BY u.orgpermid, d.as_of_date, e.itemcode\n",
    "    ),\n",
    "    most_recent_period_v\n",
    "    AS\n",
    "    (\n",
    "        -- For each Company/AsOfDate/DataItem, figure out the most recently reported Period\n",
    "        -- But stop lookback at 2 years ago because that's too old\n",
    "        SELECT u.orgpermid,\n",
    "        d.as_of_date,\n",
    "        e.itemcode,\n",
    "        MAX(e.periodenddate) AS periodenddate\n",
    "        FROM sh_universe u\n",
    "        INNER JOIN \"{as_of_date_database}\".\"{as_of_date_table}\" d\n",
    "        ON d.as_of_date BETWEEN u.first_date AND u.last_date\n",
    "        INNER JOIN \"{esg_value_database}\".\"{esg_value_table}\" e\n",
    "        ON u.orgpermid = e.organizationid\n",
    "        AND d.as_of_date >= e.effectivefromdate\n",
    "        AND e.periodenddate > DATE_ADD('year',-2, d.as_of_date) \n",
    "        AND e.itemcode IN ({values_str})\n",
    "        GROUP BY u.orgpermid, d.as_of_date, e.itemcode\n",
    "    ),\n",
    "    most_recent_period_s\n",
    "    AS\n",
    "    (\n",
    "        -- For each Company/AsOfDate/DataItem, figure out the most recently reported Period\n",
    "        -- But stop lookback at 2 years ago because that's too old\n",
    "        SELECT u.orgpermid,\n",
    "        d.as_of_date,\n",
    "        e.itemcode,\n",
    "        MAX(e.periodenddate) AS periodenddate\n",
    "        FROM sh_universe u\n",
    "        INNER JOIN \"{as_of_date_database}\".\"{as_of_date_table}\" d\n",
    "        ON d.as_of_date BETWEEN u.first_date AND u.last_date\n",
    "        INNER JOIN \"{esg_score_database}\".\"{esg_score_table}\" e\n",
    "        ON u.orgpermid = e.organizationid\n",
    "        AND d.as_of_date >= e.effectivefromdate\n",
    "        AND e.periodenddate > DATE_ADD('year',-2, d.as_of_date) \n",
    "        AND e.itemcode IN ({scores_str})\n",
    "        GROUP BY u.orgpermid, d.as_of_date, e.itemcode\n",
    "    )\n",
    "    -- Pulling in all ESG Analytics of interest\n",
    "    SELECT d.orgpermid,\n",
    "    d.as_of_date,\n",
    "    d.itemcode,\n",
    "    d.periodenddate,\n",
    "    MAX(e.effectivefromdate) AS effectivefromdate,\n",
    "    MAX_BY(e.esganalyticvalue, e.periodenddate) AS esg_value\n",
    "    FROM most_recent_period_a d\n",
    "    INNER JOIN \"{esg_analytic_database}\".\"{esg_analytic_table}\" e\n",
    "    ON d.orgpermid = e.organizationid\n",
    "    AND d.periodenddate = e.periodenddate\n",
    "    AND d.as_of_date >= e.effectivefromdate\n",
    "    AND d.itemcode=e.itemcode\n",
    "    GROUP BY d.orgpermid, d.as_of_date, d.itemcode, d.periodenddate\n",
    "    UNION\n",
    "    -- Pulling in all ESG Values of interest\n",
    "    SELECT d.orgpermid,\n",
    "    d.as_of_date,\n",
    "    d.itemcode,\n",
    "    d.periodenddate,\n",
    "    MAX(e.effectivefromdate) AS effectivefromdate,\n",
    "    MAX_BY(e.esgvalue, e.periodenddate) AS esg_value\n",
    "    FROM most_recent_period_v d\n",
    "    INNER JOIN \"{esg_value_database}\".\"{esg_value_table}\" e\n",
    "    ON d.orgpermid = e.organizationid\n",
    "    AND d.periodenddate = e.periodenddate\n",
    "    AND d.as_of_date >= e.effectivefromdate\n",
    "    AND d.itemcode=e.itemcode\n",
    "    GROUP BY d.orgpermid, d.as_of_date, d.itemcode, d.periodenddate\n",
    "    UNION\n",
    "    -- Pulling in all ESG Scores of interest\n",
    "    SELECT d.orgpermid,\n",
    "    d.as_of_date,\n",
    "    d.itemcode,\n",
    "    d.periodenddate,\n",
    "    MAX(e.effectivefromdate) AS effectivefromdate,\n",
    "    MAX_BY(e.esganalyticvalue, e.periodenddate) AS esg_value\n",
    "    FROM most_recent_period_s d\n",
    "    INNER JOIN \"{esg_score_database}\".\"{esg_score_table}\" e\n",
    "    ON d.orgpermid = e.organizationid\n",
    "    AND d.periodenddate = e.periodenddate\n",
    "    AND d.as_of_date >= e.effectivefromdate\n",
    "    AND d.itemcode=e.itemcode\n",
    "    GROUP BY d.orgpermid, d.as_of_date, d.itemcode, d.periodenddate\n",
    "    \"\"\""
   ]
  },
  {
   "cell_type": "markdown",
   "id": "8007b37d",
   "metadata": {},
   "source": [
    "### Here's what the SQL looks like with all the variables in it"
   ]
  },
  {
   "cell_type": "code",
   "execution_count": null,
   "id": "02ebb9e6",
   "metadata": {},
   "outputs": [],
   "source": [
    "print(esg_holdingdate_sql) "
   ]
  },
  {
   "cell_type": "markdown",
   "id": "5aed1e0e",
   "metadata": {},
   "source": [
    "### Now connect to Athena and run the query"
   ]
  },
  {
   "cell_type": "code",
   "execution_count": 7,
   "id": "f1627893",
   "metadata": {},
   "outputs": [],
   "source": [
    "athena_cur = pyathena.connect(s3_staging_dir=pyathena_staging).cursor() "
   ]
  },
  {
   "cell_type": "code",
   "execution_count": 8,
   "id": "f07c49ee",
   "metadata": {},
   "outputs": [
    {
     "name": "stdout",
     "output_type": "stream",
     "text": [
      "897a74f9-7fc9-4621-8a7c-ab2249dca62c\n"
     ]
    }
   ],
   "source": [
    "athena_cur.execute(esg_holdingdate_sql)\n",
    "print(athena_cur.query_id) "
   ]
  }
 ],
 "metadata": {
  "kernelspec": {
   "display_name": "conda_python3",
   "language": "python",
   "name": "conda_python3"
  },
  "language_info": {
   "codemirror_mode": {
    "name": "ipython",
    "version": 3
   },
   "file_extension": ".py",
   "mimetype": "text/x-python",
   "name": "python",
   "nbconvert_exporter": "python",
   "pygments_lexer": "ipython3",
   "version": "3.6.13"
  }
 },
 "nbformat": 4,
 "nbformat_minor": 5
}
