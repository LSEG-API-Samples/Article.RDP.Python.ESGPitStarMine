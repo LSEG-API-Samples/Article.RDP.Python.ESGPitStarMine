{
 "cells": [
  {
   "cell_type": "code",
   "execution_count": 1,
   "id": "52471045",
   "metadata": {},
   "outputs": [],
   "source": [
    "start_date = '2010-01-01'\n",
    "end_date = '2021-08-31'\n",
    "\n",
    "s3_bucket = 'YOUR_BUCKET'\n",
    "parquet_s3_location = \"data/repo/esg/daily_dates_with_weekends/daily_dates_with_weekends.parquet\""
   ]
  },
  {
   "cell_type": "markdown",
   "id": "49c38a36",
   "metadata": {},
   "source": [
    "# ===================================\n",
    "# DON'T CHANGE ANYTHING BELOW HERE\n",
    "# ==================================="
   ]
  },
  {
   "cell_type": "code",
   "execution_count": 2,
   "id": "d990425d",
   "metadata": {},
   "outputs": [],
   "source": [
    "import boto3\n",
    "from dateutil.rrule import DAILY, rrule, MO, TU, WE, TH, FR, SA, SU\n",
    "from datetime import datetime\n",
    "from io import BytesIO\n",
    "import pandas as pd"
   ]
  },
  {
   "cell_type": "code",
   "execution_count": 3,
   "id": "80ef2345",
   "metadata": {},
   "outputs": [],
   "source": [
    "# Don't let panda hide any columns\n",
    "pd.options.display.max_columns = 0"
   ]
  },
  {
   "cell_type": "markdown",
   "id": "ab53ee8b",
   "metadata": {},
   "source": [
    "### Generate Daily Time Series"
   ]
  },
  {
   "cell_type": "code",
   "execution_count": 4,
   "id": "150d957d",
   "metadata": {},
   "outputs": [],
   "source": [
    "# Convert date strings to datetime types\n",
    "start_datetime = datetime.strptime(start_date, '%Y-%m-%d')\n",
    "end_datetime = datetime.strptime(end_date, '%Y-%m-%d')"
   ]
  },
  {
   "cell_type": "code",
   "execution_count": 5,
   "id": "cbf947a4",
   "metadata": {},
   "outputs": [],
   "source": [
    "# Create a rule for all weekdays\n",
    "weekdays = rrule(DAILY, dtstart=start_datetime, until=end_datetime, byweekday=(MO,TU,WE,TH,FR,SA,SU))"
   ]
  },
  {
   "cell_type": "code",
   "execution_count": 6,
   "id": "39a401ff",
   "metadata": {},
   "outputs": [],
   "source": [
    "# Generate pandas dataframe of all weekdays\n",
    "dates_df = pd.DataFrame(list(weekdays), columns=['as_of_date'])"
   ]
  },
  {
   "cell_type": "code",
   "execution_count": 7,
   "id": "92df34f7",
   "metadata": {},
   "outputs": [
    {
     "data": {
      "text/html": [
       "<div>\n",
       "<style scoped>\n",
       "    .dataframe tbody tr th:only-of-type {\n",
       "        vertical-align: middle;\n",
       "    }\n",
       "\n",
       "    .dataframe tbody tr th {\n",
       "        vertical-align: top;\n",
       "    }\n",
       "\n",
       "    .dataframe thead th {\n",
       "        text-align: right;\n",
       "    }\n",
       "</style>\n",
       "<table border=\"1\" class=\"dataframe\">\n",
       "  <thead>\n",
       "    <tr style=\"text-align: right;\">\n",
       "      <th></th>\n",
       "      <th>as_of_date</th>\n",
       "    </tr>\n",
       "  </thead>\n",
       "  <tbody>\n",
       "    <tr>\n",
       "      <th>0</th>\n",
       "      <td>2010-01-01</td>\n",
       "    </tr>\n",
       "    <tr>\n",
       "      <th>1</th>\n",
       "      <td>2010-01-02</td>\n",
       "    </tr>\n",
       "    <tr>\n",
       "      <th>2</th>\n",
       "      <td>2010-01-03</td>\n",
       "    </tr>\n",
       "    <tr>\n",
       "      <th>3</th>\n",
       "      <td>2010-01-04</td>\n",
       "    </tr>\n",
       "    <tr>\n",
       "      <th>4</th>\n",
       "      <td>2010-01-05</td>\n",
       "    </tr>\n",
       "  </tbody>\n",
       "</table>\n",
       "</div>"
      ],
      "text/plain": [
       "  as_of_date\n",
       "0 2010-01-01\n",
       "1 2010-01-02\n",
       "2 2010-01-03\n",
       "3 2010-01-04\n",
       "4 2010-01-05"
      ]
     },
     "execution_count": 7,
     "metadata": {},
     "output_type": "execute_result"
    }
   ],
   "source": [
    "dates_df.head()"
   ]
  },
  {
   "cell_type": "markdown",
   "id": "57cdf096",
   "metadata": {},
   "source": [
    "### Write Daily Dates to S3"
   ]
  },
  {
   "cell_type": "code",
   "execution_count": 8,
   "id": "927daa09",
   "metadata": {},
   "outputs": [],
   "source": [
    "s3_resource = boto3.resource('s3')  "
   ]
  },
  {
   "cell_type": "code",
   "execution_count": 9,
   "id": "b4384dd0",
   "metadata": {},
   "outputs": [
    {
     "data": {
      "text/plain": [
       "{'ResponseMetadata': {'RequestId': 'XN2V4NY2JGP221TQ',\n",
       "  'HostId': 'VYlyqjZMKl0vaEbQ7+6OcrgUOjsIW3YLaOfSiA1kyV2dI8dOEd84SfP6VMtvu53YN1cjd6OayNM=',\n",
       "  'HTTPStatusCode': 200,\n",
       "  'HTTPHeaders': {'x-amz-id-2': 'VYlyqjZMKl0vaEbQ7+6OcrgUOjsIW3YLaOfSiA1kyV2dI8dOEd84SfP6VMtvu53YN1cjd6OayNM=',\n",
       "   'x-amz-request-id': 'XN2V4NY2JGP221TQ',\n",
       "   'date': 'Tue, 31 Aug 2021 20:46:04 GMT',\n",
       "   'x-amz-version-id': 'DRuXOWv2ZJLzz6LPD3JN5Nt1tB6zT5r2',\n",
       "   'x-amz-server-side-encryption': 'AES256',\n",
       "   'etag': '\"2caffbdc91b93f587d2b0a9ed3f6592e\"',\n",
       "   'server': 'AmazonS3',\n",
       "   'content-length': '0'},\n",
       "  'RetryAttempts': 0},\n",
       " 'ETag': '\"2caffbdc91b93f587d2b0a9ed3f6592e\"',\n",
       " 'ServerSideEncryption': 'AES256',\n",
       " 'VersionId': 'DRuXOWv2ZJLzz6LPD3JN5Nt1tB6zT5r2'}"
      ]
     },
     "execution_count": 9,
     "metadata": {},
     "output_type": "execute_result"
    }
   ],
   "source": [
    "parquet_buffer = BytesIO()\n",
    "dates_df.to_parquet(parquet_buffer, index=False)\n",
    "s3_resource.Object(s3_bucket, parquet_s3_location).put(Body=parquet_buffer.getvalue())"
   ]
  }
 ],
 "metadata": {
  "kernelspec": {
   "display_name": "Python 3",
   "language": "python",
   "name": "python3"
  },
  "language_info": {
   "codemirror_mode": {
    "name": "ipython",
    "version": 3
   },
   "file_extension": ".py",
   "mimetype": "text/x-python",
   "name": "python",
   "nbconvert_exporter": "python",
   "pygments_lexer": "ipython3",
   "version": "3.7.1"
  }
 },
 "nbformat": 4,
 "nbformat_minor": 5
}
